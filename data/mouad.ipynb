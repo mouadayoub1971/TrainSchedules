{
 "cells": [
  {
   "cell_type": "code",
   "execution_count": 2,
   "id": "428a1693-6c4d-423f-a176-13c4345c885c",
   "metadata": {},
   "outputs": [
    {
     "data": {
      "text/html": [
       "\n",
       "            <div>\n",
       "                <p><b>SparkSession - in-memory</b></p>\n",
       "                \n",
       "        <div>\n",
       "            <p><b>SparkContext</b></p>\n",
       "\n",
       "            <p><a href=\"http://88b3661021b9:4040\">Spark UI</a></p>\n",
       "\n",
       "            <dl>\n",
       "              <dt>Version</dt>\n",
       "                <dd><code>v3.3.0</code></dd>\n",
       "              <dt>Master</dt>\n",
       "                <dd><code>local[*]</code></dd>\n",
       "              <dt>AppName</dt>\n",
       "                <dd><code>Streaming from Kafka</code></dd>\n",
       "            </dl>\n",
       "        </div>\n",
       "        \n",
       "            </div>\n",
       "        "
      ],
      "text/plain": [
       "<pyspark.sql.session.SparkSession at 0x7f233813f400>"
      ]
     },
     "execution_count": 2,
     "metadata": {},
     "output_type": "execute_result"
    }
   ],
   "source": [
    "# cree une spark session\n",
    "from pyspark.sql import SparkSession\n",
    "\n",
    "\n",
    "spark = (\n",
    "    SparkSession \n",
    "    .builder \n",
    "    .appName(\"Streaming from spring-boot\") \n",
    "    .config(\"spark.streaming.stopGracefullyOnShutdown\", True) \n",
    "    .config('spark.jars.packages', 'org.apache.spark:spark-sql-kafka-0-10_2.12:3.3.0')\n",
    "    .config(\"spark.sql.shuffle.partitions\", 4)\n",
    "    .master(\"local[*]\") \n",
    "    .getOrCreate()\n",
    ")\n",
    "\n",
    "spark"
   ]
  },
  {
   "cell_type": "code",
   "execution_count": 3,
   "id": "56ee70c4-9260-4bcf-82f1-acff3f39ce06",
   "metadata": {},
   "outputs": [],
   "source": [
    "# Create the kafka_df to read from kafka\n",
    "\n",
    "kafka_df = (\n",
    "    spark\n",
    "    .readStream\n",
    "    .format(\"kafka\")\n",
    "    .option(\"kafka.bootstrap.servers\", \"ed-kafka:29092\")\n",
    "    .option(\"subscribe\", \"logsTopic\")\n",
    "    .option(\"failOnDataLoss\", \"false\")\n",
    "    .option(\"startingOffsets\", \"earliest\")\n",
    "    .load()\n",
    ")\n"
   ]
  },
  {
   "cell_type": "code",
   "execution_count": 4,
   "id": "974f1f9a-cc8c-405b-8824-0d9945d34383",
   "metadata": {},
   "outputs": [
    {
     "name": "stdout",
     "output_type": "stream",
     "text": [
      "root\n",
      " |-- key: binary (nullable = true)\n",
      " |-- value: binary (nullable = true)\n",
      " |-- topic: string (nullable = true)\n",
      " |-- partition: integer (nullable = true)\n",
      " |-- offset: long (nullable = true)\n",
      " |-- timestamp: timestamp (nullable = true)\n",
      " |-- timestampType: integer (nullable = true)\n",
      "\n"
     ]
    }
   ],
   "source": [
    "# View schema for raw kafka_df\n",
    "kafka_df.printSchema()\n",
    "#kafka_df.show()"
   ]
  },
  {
   "cell_type": "code",
   "execution_count": 5,
   "id": "53bf3233-a702-4015-83e5-5fb827ab8c69",
   "metadata": {},
   "outputs": [],
   "source": [
    "# Parse value from binay to string into kafka_json_df\n",
    "from pyspark.sql.functions import expr\n",
    "\n",
    "kafka_logs_df = kafka_df.withColumn(\"value\", expr(\"cast(value as string)\"))"
   ]
  },
  {
   "cell_type": "code",
   "execution_count": 6,
   "id": "974f46a8-7043-447f-97de-36232b32ab9f",
   "metadata": {},
   "outputs": [],
   "source": [
    "from pyspark.sql.functions import regexp_extract, col\n",
    "\n",
    "# Define the regex pattern\n",
    "log_pattern = r\"(\\d{4}-\\d{2}-\\d{2} \\d{2}:\\d{2}:\\d{2}) \\[([A-Z]+)] ([^\\s]+) ([^:]+): (.+?) - (.+)\"\n",
    "\n",
    "# Extract fields using the regex pattern\n",
    "parsed_kafka_logs_df = kafka_logs_df.withColumn(\"timestamp\", regexp_extract(col(\"value\"), log_pattern, 1)) \\\n",
    "    .withColumn(\"logLevel\", regexp_extract(col(\"value\"), log_pattern, 2)) \\\n",
    "    .withColumn(\"threadName\", regexp_extract(col(\"value\"), log_pattern, 3)) \\\n",
    "    .withColumn(\"loggerName\", regexp_extract(col(\"value\"), log_pattern, 4)) \\\n",
    "    .withColumn(\"message\", regexp_extract(col(\"value\"), log_pattern, 5)) \\\n",
    "    .withColumn(\"contextData\", regexp_extract(col(\"value\"), log_pattern, 6))\n",
    "\n"
   ]
  },
  {
   "cell_type": "code",
   "execution_count": null,
   "id": "abb47001",
   "metadata": {},
   "outputs": [],
   "source": [
    "# Check the schema of the flattened_df, place a sample json file and change readStream to read \n",
    "parsed_kafka_logs_df.printSchema()\n",
    "#flattened_df.show(truncate=False)"
   ]
  },
  {
   "cell_type": "code",
   "execution_count": 7,
   "id": "d0d45d43-4c87-4ad8-8546-e24334769b75",
   "metadata": {},
   "outputs": [],
   "source": [
    "from pyspark.sql.functions import   lit, to_json,struct, collect_list, count\n",
    "log_level_by_logger_df = (\n",
    "    parsed_kafka_logs_df\n",
    "    .groupBy(\"loggerName\", \"message\")\n",
    "    .agg(\n",
    "        count(\"*\").alias(\"logCount\"),  # Count the number of logs in each group\n",
    "        collect_list(\"contextData\").alias(\"allContextData\")  # Collect all contextData for the group\n",
    "    )\n",
    ")"
   ]
  },
  {
   "cell_type": "code",
   "execution_count": 8,
   "id": "fedb7898-c6b2-4be2-b92c-882502387568",
   "metadata": {},
   "outputs": [
    {
     "name": "stdout",
     "output_type": "stream",
     "text": [
      "root\n",
      " |-- customerId: string (nullable = true)\n",
      " |-- data: struct (nullable = true)\n",
      " |    |-- devices: array (nullable = true)\n",
      " |    |    |-- element: struct (containsNull = true)\n",
      " |    |    |    |-- deviceId: string (nullable = true)\n",
      " |    |    |    |-- measure: string (nullable = true)\n",
      " |    |    |    |-- status: string (nullable = true)\n",
      " |    |    |    |-- temperature: long (nullable = true)\n",
      " |-- eventId: string (nullable = true)\n",
      " |-- eventOffset: long (nullable = true)\n",
      " |-- eventPublisher: string (nullable = true)\n",
      " |-- eventTime: string (nullable = true)\n",
      "\n"
     ]
    }
   ],
   "source": [
    "aggregated_df = (\n",
    "    log_level_by_logger_df\n",
    "    .withColumn(\n",
    "        \"logDetails\",  # Column that holds the JSON object\n",
    "        struct(col(\"loggerName\"), col(\"message\"),col(\"allContextData\"), col(\"logCount\"))  # Combine all relevant columns\n",
    "    )\n",
    "    .withColumn(\n",
    "        \"value\",  # Convert the list into a JSON array\n",
    "        to_json(col(\"logDetails\"))\n",
    "    )\n",
    "    .select(\n",
    "        lit(\"logLevelByLogger\").alias(\"key\"),  # Static key for the Kafka message\n",
    "        col(\"value\")  # JSON array as value\n",
    "    )\n",
    ")"
   ]
  },
  {
   "cell_type": "code",
   "execution_count": 9,
   "id": "435ae57d-7ea9-4665-82bf-df895d4668ee",
   "metadata": {},
   "outputs": [],
   "source": [
    "# Write the output to Kafka cc\n",
    "(aggregated_df\n",
    "    .writeStream\n",
    "    .format(\"kafka\")\n",
    "    .option(\"kafka.bootstrap.servers\", \"ed-kafka:29092\")  # Kafka broker address\n",
    "    .option(\"topic\", \"spark-out-put\")  # Kafka topic to send data to\n",
    "    .option(\"checkpointLocation\", \"che1\")  # Checkpoint location for fault tolerance\n",
    "    .outputMode(\"update\")  # Use append mode to add new data to the topic\n",
    "    .start()  # Start the streaming query\n",
    "    .awaitTermination()  # Keep the stream running\n",
    ")"
   ]
  }
 ],
 "metadata": {
  "kernelspec": {
   "display_name": "Python 3 (ipykernel)",
   "language": "python",
   "name": "python3"
  },
  "language_info": {
   "codemirror_mode": {
    "name": "ipython",
    "version": 3
   },
   "file_extension": ".py",
   "mimetype": "text/x-python",
   "name": "python",
   "nbconvert_exporter": "python",
   "pygments_lexer": "ipython3",
   "version": "3.10.6"
  }
 },
 "nbformat": 4,
 "nbformat_minor": 5
}
