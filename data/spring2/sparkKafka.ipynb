{
 "cells": [
  {
   "cell_type": "code",
   "execution_count": 1,
   "metadata": {},
   "outputs": [
    {
     "data": {
      "text/html": [
       "\n",
       "            <div>\n",
       "                <p><b>SparkSession - in-memory</b></p>\n",
       "                \n",
       "        <div>\n",
       "            <p><b>SparkContext</b></p>\n",
       "\n",
       "            <p><a href=\"http://c57a5c579586:4040\">Spark UI</a></p>\n",
       "\n",
       "            <dl>\n",
       "              <dt>Version</dt>\n",
       "                <dd><code>v3.3.0</code></dd>\n",
       "              <dt>Master</dt>\n",
       "                <dd><code>local[*]</code></dd>\n",
       "              <dt>AppName</dt>\n",
       "                <dd><code>Streaming from spring-boot</code></dd>\n",
       "            </dl>\n",
       "        </div>\n",
       "        \n",
       "            </div>\n",
       "        "
      ],
      "text/plain": [
       "<pyspark.sql.session.SparkSession at 0x7f7f8d45b400>"
      ]
     },
     "execution_count": 1,
     "metadata": {},
     "output_type": "execute_result"
    }
   ],
   "source": [
    "# cree une spark session\n",
    "from pyspark.sql import SparkSession\n",
    "\n",
    "\n",
    "spark = (\n",
    "    SparkSession \n",
    "    .builder \n",
    "    .appName(\"Streaming from spring-boot\") \n",
    "    .config(\"spark.streaming.stopGracefullyOnShutdown\", True) \n",
    "    .config('spark.jars.packages', 'org.apache.spark:spark-sql-kafka-0-10_2.12:3.3.0')\n",
    "    .config(\"spark.sql.shuffle.partitions\", 4)\n",
    "    .master(\"local[*]\") \n",
    "    .getOrCreate()\n",
    ")\n",
    "\n",
    "spark"
   ]
  },
  {
   "cell_type": "code",
   "execution_count": 2,
   "metadata": {},
   "outputs": [],
   "source": [
    "# Create the kafka_df to read from kafka\n",
    "\n",
    "kafka_df = (\n",
    "    spark\n",
    "    .readStream\n",
    "    .format(\"kafka\")\n",
    "    .option(\"kafka.bootstrap.servers\", \"ed-kafka:29092\")\n",
    "    .option(\"subscribe\", \"logsTopic\")\n",
    "    .option(\"startingOffsets\", \"earliest\")\n",
    "    .load()\n",
    ")\n"
   ]
  },
  {
   "cell_type": "code",
   "execution_count": 3,
   "metadata": {},
   "outputs": [
    {
     "name": "stdout",
     "output_type": "stream",
     "text": [
      "root\n",
      " |-- key: binary (nullable = true)\n",
      " |-- value: binary (nullable = true)\n",
      " |-- topic: string (nullable = true)\n",
      " |-- partition: integer (nullable = true)\n",
      " |-- offset: long (nullable = true)\n",
      " |-- timestamp: timestamp (nullable = true)\n",
      " |-- timestampType: integer (nullable = true)\n",
      "\n"
     ]
    }
   ],
   "source": [
    "# View schema for raw kafka_df\n",
    "kafka_df.printSchema()\n",
    "#kafka_df.show()"
   ]
  },
  {
   "cell_type": "code",
   "execution_count": 4,
   "metadata": {},
   "outputs": [],
   "source": [
    "# Parse value from binay to string into kafka_json_df\n",
    "from pyspark.sql.functions import expr\n",
    "\n",
    "kafka_logs_df = kafka_df.withColumn(\"value\", expr(\"cast(value as string)\"))"
   ]
  },
  {
   "cell_type": "code",
   "execution_count": 5,
   "metadata": {},
   "outputs": [],
   "source": [
    "from pyspark.sql.functions import regexp_extract, col\n",
    "\n",
    "# Define the regex pattern\n",
    "log_pattern = r\"(\\d{4}-\\d{2}-\\d{2} \\d{2}:\\d{2}:\\d{2}) \\[([A-Z]+)] ([^\\s]+) ([^:]+): (.+?) - (.+)\"\n",
    "\n",
    "# Extract fields using the regex pattern\n",
    "parsed_kafka_logs_df = kafka_logs_df.withColumn(\"timestamp\", regexp_extract(col(\"value\"), log_pattern, 1)) \\\n",
    "    .withColumn(\"logLevel\", regexp_extract(col(\"value\"), log_pattern, 2)) \\\n",
    "    .withColumn(\"threadName\", regexp_extract(col(\"value\"), log_pattern, 3)) \\\n",
    "    .withColumn(\"loggerName\", regexp_extract(col(\"value\"), log_pattern, 4)) \\\n",
    "    .withColumn(\"message\", regexp_extract(col(\"value\"), log_pattern, 5)) \\\n",
    "    .withColumn(\"contextData\", regexp_extract(col(\"value\"), log_pattern, 6))\n",
    "\n"
   ]
  },
  {
   "cell_type": "code",
   "execution_count": 6,
   "metadata": {},
   "outputs": [
    {
     "name": "stdout",
     "output_type": "stream",
     "text": [
      "root\n",
      " |-- key: binary (nullable = true)\n",
      " |-- value: string (nullable = true)\n",
      " |-- topic: string (nullable = true)\n",
      " |-- partition: integer (nullable = true)\n",
      " |-- offset: long (nullable = true)\n",
      " |-- timestamp: string (nullable = true)\n",
      " |-- timestampType: integer (nullable = true)\n",
      " |-- logLevel: string (nullable = true)\n",
      " |-- threadName: string (nullable = true)\n",
      " |-- loggerName: string (nullable = true)\n",
      " |-- message: string (nullable = true)\n",
      " |-- contextData: string (nullable = true)\n",
      "\n"
     ]
    }
   ],
   "source": [
    "# Check the schema of the flattened_df, place a sample json file and change readStream to read \n",
    "parsed_kafka_logs_df.printSchema()\n",
    "#flattened_df.show(truncate=False)"
   ]
  },
  {
   "cell_type": "code",
   "execution_count": 7,
   "metadata": {},
   "outputs": [],
   "source": [
    "from pyspark.sql.functions import   lit, to_json,struct, collect_list, count\n",
    "log_level_by_logger_df = (\n",
    "    parsed_kafka_logs_df\n",
    "    .groupBy(\"loggerName\", \"message\")\n",
    "    .agg(\n",
    "        count(\"*\").alias(\"logCount\"),  # Count the number of logs in each group\n",
    "        collect_list(\"contextData\").alias(\"allContextData\")  # Collect all contextData for the group\n",
    "    )\n",
    ")"
   ]
  },
  {
   "cell_type": "code",
   "execution_count": 8,
   "metadata": {},
   "outputs": [],
   "source": [
    "aggregated_df = (\n",
    "    log_level_by_logger_df\n",
    "    .withColumn(\n",
    "        \"logDetails\",  # Column that holds the JSON object\n",
    "        struct(col(\"loggerName\"), col(\"message\"),col(\"allContextData\"), col(\"logCount\"))  # Combine all relevant columns\n",
    "    )\n",
    "    .withColumn(\n",
    "        \"value\",  # Convert the list into a JSON array\n",
    "        to_json(col(\"logDetails\"))\n",
    "    )\n",
    "    .select(\n",
    "        lit(\"logLevelByLogger\").alias(\"key\"),  # Static key for the Kafka message\n",
    "        col(\"value\")  # JSON array as value\n",
    "    )\n",
    ")"
   ]
  },
  {
   "cell_type": "code",
   "execution_count": null,
   "metadata": {},
   "outputs": [],
   "source": [
    "# Write the output to Kafka cc\n",
    "(aggregated_df\n",
    "    .writeStream\n",
    "    .format(\"kafka\")\n",
    "    .option(\"kafka.bootstrap.servers\", \"ed-kafka:29092\")  # Kafka broker address\n",
    "    .option(\"topic\", \"spark-out-put\")  # Kafka topic to send data to\n",
    "    .option(\"checkpointLocation\", \"checkpoint04\")  # Checkpoint location for fault tolerance\n",
    "    .outputMode(\"update\")  # Use append mode to add new data to the topic\n",
    "    .start()  # Start the streaming query\n",
    "    .awaitTermination()  # Keep the stream running\n",
    ")"
   ]
  }
 ],
 "metadata": {
  "kernelspec": {
   "display_name": "Python 3 (ipykernel)",
   "language": "python",
   "name": "python3"
  },
  "language_info": {
   "codemirror_mode": {
    "name": "ipython",
    "version": 3
   },
   "file_extension": ".py",
   "mimetype": "text/x-python",
   "name": "python",
   "nbconvert_exporter": "python",
   "pygments_lexer": "ipython3",
   "version": "3.10.6"
  }
 },
 "nbformat": 4,
 "nbformat_minor": 4
}
